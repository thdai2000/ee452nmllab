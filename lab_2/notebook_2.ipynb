{
 "cells": [
  {
   "cell_type": "markdown",
   "metadata": {},
   "source": [
    "# [NML-25] Notebook 2: Spectral Graph Theory\n",
    "\n",
    "Responsible TA: [William Cappelletti](https://people.epfl.ch/william.cappelletti)"
   ]
  },
  {
   "cell_type": "markdown",
   "metadata": {},
   "source": [
    "## Instructions\n",
    "\n",
    "\n",
    "**Expected output:**\n",
    "\n",
    "Troughout the different lab session, you will have coding and theoretical questions. Coding exercises shall be solved within the specified space:\n",
    "```python\n",
    "# Your solution here ###########################################################\n",
    "...\n",
    "#^^^^^^^^^^^^^^^^^^^^^^^^^^^^^^^^^^^^^^^^^^^^^^^^^^^^^^^^^^^^^^^^^^^^^^^^^^^^^^^\n",
    "```\n",
    "Sometimes we provide variable names, such as `x = ...`; do not change names and stick to hinted typing, as they will be reused later.\n",
    "Within the solution space, you can declare any other variable of function that you might need, but anything outside these lines shall not be changed, or it will invalidate your answers.\n",
    "\n",
    "Theoretical questions shall be answered in the following markdown cell. The first line will be \n",
    "```markdown\n",
    "**Your answer here:**\n",
    "...\n",
    "```\n",
    "\n",
    "**Solutions:**\n",
    "* Your code should be self-contained in the `.ipynb` file. The solution to the exercices will be provided in an external `.ipynb` file.\n",
    "\n",
    "* Try to make your code clean and readable, it is a good training for the project. Provide meaningful variable names and comment where needed.\n",
    "\n",
    "* You cannot import any other library than we imported, unless explicitly stated."
   ]
  },
  {
   "cell_type": "markdown",
   "metadata": {},
   "source": [
    "## Objective\n",
    "\n",
    "This assignment features three exercises: \n",
    "  - spectral clustering\n",
    "  - spectral graph filtering\n",
    "\n",
    "\n",
    "NB: You are encouraged to try different random seeds, remember to re-run the whole notebook after doing so."
   ]
  },
  {
   "cell_type": "markdown",
   "metadata": {},
   "source": [
    "### Setup"
   ]
  },
  {
   "cell_type": "code",
   "execution_count": null,
   "metadata": {},
   "outputs": [],
   "source": [
    "import matplotlib.pyplot as plt\n",
    "import networkx as nx\n",
    "import numpy as np\n",
    "from sklearn.cluster import KMeans\n",
    "\n",
    "rng = np.random.default_rng(235486)"
   ]
  },
  {
   "cell_type": "markdown",
   "metadata": {},
   "source": [
    "## Section I: Spectral clustering\n",
    "\n",
    "In this exercise, we will perform both positional-feature-based as well as spectral clustering on two different graph structures (disjoint box graphs and crescent moon) and analyze the influence of the features and graph on the obtained clusters.\n",
    "\n",
    "*For additional information on spectral clustering, we refer to this [tutorial paper](http://www.tml.cs.uni-tuebingen.de/team/luxburg/publications/Luxburg07_tutorial.pdf). For practical aspects of the algorithm, the relevant sections are 1, 2, 3, 4, 8.*"
   ]
  },
  {
   "cell_type": "markdown",
   "metadata": {},
   "source": [
    "### Load and visualize data"
   ]
  },
  {
   "cell_type": "code",
   "execution_count": null,
   "metadata": {},
   "outputs": [],
   "source": [
    "def get_boxes(num_boxes: int = 5, num_random_edges: int = 5):\n",
    "    boxes = [nx.grid_2d_graph(m=n, n=n) for n in range(3, 3 + num_boxes)]\n",
    "    pos = np.concatenate(\n",
    "        [\n",
    "            np.array(list(nx.kamada_kawai_layout(box).values())) + i * 1.25\n",
    "            for i, box in enumerate(boxes)\n",
    "        ]\n",
    "    )\n",
    "    G = nx.disjoint_union_all(boxes)\n",
    "    return G, pos"
   ]
  },
  {
   "cell_type": "code",
   "execution_count": null,
   "metadata": {},
   "outputs": [],
   "source": [
    "def get_moons(num_moons: int = 5, num_points: int = 1000, eps: float = 2.5e-2):\n",
    "    points = rng.uniform(-1, 1, size=(num_points, 2))\n",
    "    x, y = points[:, 0], points[:, 1]\n",
    "    circ = x**2 + y**2 <= 1\n",
    "    circ2 = (x - 0.5) ** 2 + y**2 <= 1\n",
    "    moon = points[circ & ~circ2]\n",
    "    moons = np.concatenate(\n",
    "        [\n",
    "            np.array([1 - 2 * (i % 2), 1]) * (moon + np.array([0, i * 1.5]))\n",
    "            for i in range(num_moons)\n",
    "        ]\n",
    "    )\n",
    "    moon_dists = np.sum((moons[np.newaxis] - moons[:, np.newaxis]) ** 2, axis=2)\n",
    "    moon_edges = np.vstack(((0 < moon_dists) & (moon_dists < eps)).nonzero()).T\n",
    "    moon_graph = nx.empty_graph(n=len(moons))\n",
    "    moon_graph.add_edges_from(moon_edges)\n",
    "    return moon_graph, moons"
   ]
  },
  {
   "cell_type": "code",
   "execution_count": null,
   "metadata": {},
   "outputs": [],
   "source": [
    "def plot_graph(G, pos, node_clusters=None):\n",
    "    plt.figure(figsize=(5, 5))\n",
    "    nx.draw(\n",
    "        G,\n",
    "        pos=pos,\n",
    "        node_size=10,\n",
    "        node_color=(\n",
    "            [plt.cm.Set1(c) for c in node_clusters]\n",
    "            if node_clusters is not None\n",
    "            else \"gray\"\n",
    "        ),\n",
    "    )\n",
    "    plt.show()"
   ]
  },
  {
   "cell_type": "code",
   "execution_count": null,
   "metadata": {},
   "outputs": [],
   "source": [
    "num_clusters = 5\n",
    "G_boxes, G_boxes_pos = get_boxes(num_clusters)\n",
    "plot_graph(G_boxes, G_boxes_pos)"
   ]
  },
  {
   "cell_type": "code",
   "execution_count": null,
   "metadata": {},
   "outputs": [],
   "source": [
    "G_moons, G_moons_pos = get_moons(num_clusters)\n",
    "plot_graph(G_moons, G_moons_pos)"
   ]
  },
  {
   "cell_type": "markdown",
   "metadata": {},
   "source": [
    "### Part 1: K-means\n",
    "\n",
    "#### Question 1.1: Run K-means with 5 clusters on both graphs.\n",
    "\n",
    "You can use the scikit learn function (https://scikit-learn.org/stable/modules/generated/sklearn.cluster.KMeans.html)."
   ]
  },
  {
   "cell_type": "code",
   "execution_count": null,
   "metadata": {},
   "outputs": [],
   "source": [
    "# Your solution here ###########################################################\n",
    "\n",
    "G_boxes_clusters = ...\n",
    "G_moons_clusters = ...\n",
    "# ^^^^^^^^^^^^^^^^^^^^^^^^^^^^^^^^^^^^^^^^^^^^^^^^^^^^^^^^^^^^^^^^^^^^^^^^^^^^^^^"
   ]
  },
  {
   "cell_type": "code",
   "execution_count": null,
   "metadata": {},
   "outputs": [],
   "source": [
    "plot_graph(G_boxes, G_boxes_pos, G_boxes_clusters)\n",
    "plot_graph(G_moons, G_moons_pos, G_moons_clusters)"
   ]
  },
  {
   "cell_type": "markdown",
   "metadata": {},
   "source": [
    "#### Question 1.2: Explain the limitations of K-means with respect to these data."
   ]
  },
  {
   "cell_type": "markdown",
   "metadata": {},
   "source": [
    "**Your answer here:**"
   ]
  },
  {
   "cell_type": "markdown",
   "metadata": {},
   "source": [
    "### Part 2: Spectral clustering"
   ]
  },
  {
   "cell_type": "markdown",
   "metadata": {},
   "source": [
    "#### Question 2.1: Fill `compute_laplacian`, `compute_number_connected_components`, `spectral decomposition`.\n",
    "\n",
    "These functions should work for all 3 definitions of the laplacian (combinatorial, symmetric normalized, random walk).\n",
    "\n",
    "*Warning:* the eigendecomposition of a non symmetric matrix returns complex numbers, even if the imaginary part is in fact 0."
   ]
  },
  {
   "cell_type": "code",
   "execution_count": null,
   "metadata": {},
   "outputs": [],
   "source": [
    "def compute_laplacian(adjacency: np.ndarray, normalize: str):\n",
    "    \"\"\"normalize: can be None, 'sym' or 'rw' for the combinatorial, symmetric normalized or random walk Laplacians\n",
    "    Return:\n",
    "        L (n x n ndarray): combinatorial or symmetric normalized Laplacian.\n",
    "    \"\"\"\n",
    "    # Your solution here ###########################################################\n",
    "    ...\n",
    "\n",
    "    if normalize is None:\n",
    "        ...\n",
    "\n",
    "    if normalize == \"sym\":\n",
    "        ...\n",
    "\n",
    "    elif normalize == \"rw\":\n",
    "        ...\n",
    "    # ^^^^^^^^^^^^^^^^^^^^^^^^^^^^^^^^^^^^^^^^^^^^^^^^^^^^^^^^^^^^^^^^^^^^^^^^^^^^^^^\n",
    "\n",
    "    else:\n",
    "        raise ValueError(f\"Unknown normalization: {normalize}\")\n",
    "\n",
    "\n",
    "def compute_number_connected_components(l_eigval: np.array, eps: float = 1e-12):\n",
    "    \"\"\"\n",
    "\n",
    "    Args:\n",
    "        l_eigval (np.array): eigenvalues of a Laplacian\n",
    "        threshold (float, optional): cutoff value for very small numbers\n",
    "\n",
    "    Returns:\n",
    "        n_components (int): number of connected components.\n",
    "    \"\"\"\n",
    "    # Your solution here ###########################################################\n",
    "    ...\n",
    "    # ^^^^^^^^^^^^^^^^^^^^^^^^^^^^^^^^^^^^^^^^^^^^^^^^^^^^^^^^^^^^^^^^^^^^^^^^^^^^^^^\n",
    "\n",
    "\n",
    "def spectral_decomposition(laplacian: np.ndarray):\n",
    "    \"\"\"Return:\n",
    "    l_eigvec (np.array): eigenvalues of the Laplacian\n",
    "    l_eigvals (np.ndarray): corresponding eigenvectors.\n",
    "    \"\"\"\n",
    "    # Your solution here ###########################################################\n",
    "    ...\n",
    "    # ^^^^^^^^^^^^^^^^^^^^^^^^^^^^^^^^^^^^^^^^^^^^^^^^^^^^^^^^^^^^^^^^^^^^^^^^^^^^^^^"
   ]
  },
  {
   "cell_type": "markdown",
   "metadata": {},
   "source": [
    "#### Question 2.2: Compute how many connected components each of the graphs has.\n",
    "\n",
    "Does the result change according to the laplacian definition?\n"
   ]
  },
  {
   "cell_type": "code",
   "execution_count": null,
   "metadata": {},
   "outputs": [],
   "source": [
    "# Your solution here ###############################################################\n",
    "\n",
    "\n",
    "# ^^^^^^^^^^^^^^^^^^^^^^^^^^^^^^^^^^^^^^^^^^^^^^^^^^^^^^^^^^^^^^^^^^^^^^^^^^^^^^^^^^"
   ]
  },
  {
   "cell_type": "markdown",
   "metadata": {},
   "source": [
    "#### Question 2.3: Implement spectral clustering, then compute it and plot it for each Laplacian definition\n",
    "\n",
    "Implement the `SpectralClustering` class, using the previously defined `compute_laplacian` and `spectral_decomposition`."
   ]
  },
  {
   "cell_type": "code",
   "execution_count": null,
   "metadata": {},
   "outputs": [],
   "source": [
    "class SpectralClustering:\n",
    "    def __init__(self, n_classes: int, normalize: str):\n",
    "        self.n_classes = n_classes\n",
    "        self.normalize = normalize\n",
    "        # Your solution here ###########################################################\n",
    "        self.clustering_method = ...\n",
    "        # ^^^^^^^^^^^^^^^^^^^^^^^^^^^^^^^^^^^^^^^^^^^^^^^^^^^^^^^^^^^^^^^^^^^^^^^^^^^^^^^\n",
    "\n",
    "    def fit_predict(self, G: nx.Graph):\n",
    "        \"\"\"Your code should be correct both for the combinatorial\n",
    "        and the symmetric normalized spectral clustering.\n",
    "        Return:\n",
    "        y_pred (np.ndarray): cluster assignments.\n",
    "        \"\"\"\n",
    "        # Your solution here ###########################################################\n",
    "        ...\n",
    "        # ^^^^^^^^^^^^^^^^^^^^^^^^^^^^^^^^^^^^^^^^^^^^^^^^^^^^^^^^^^^^^^^^^^^^^^^^^^^^^^^"
   ]
  },
  {
   "cell_type": "code",
   "execution_count": null,
   "metadata": {},
   "outputs": [],
   "source": [
    "# Combinatorial Laplacian\n",
    "print(\"Spectral clustering with combinatorial Laplacian\")\n",
    "\n",
    "# Your solution here ###################################################################\n",
    "\n",
    "...\n",
    "\n",
    "# ^^^^^^^^^^^^^^^^^^^^^^^^^^^^^^^^^^^^^^^^^^^^^^^^^^^^^^^^^^^^^^^^^^^^^^^^^^^^^^^^^^^^^^"
   ]
  },
  {
   "cell_type": "code",
   "execution_count": null,
   "metadata": {},
   "outputs": [],
   "source": [
    "# Combinatorial Laplacian\n",
    "print(\"Spectral clustering with symmetric normalized Laplacian\")\n",
    "\n",
    "# Your solution here ###################################################################\n",
    "\n",
    "...\n",
    "\n",
    "# ^^^^^^^^^^^^^^^^^^^^^^^^^^^^^^^^^^^^^^^^^^^^^^^^^^^^^^^^^^^^^^^^^^^^^^^^^^^^^^^^^^^^^^"
   ]
  },
  {
   "cell_type": "code",
   "execution_count": null,
   "metadata": {},
   "outputs": [],
   "source": [
    "# Combinatorial Laplacian\n",
    "print(\"Spectral clustering with random walks Laplacian\")\n",
    "\n",
    "# Your solution here ###################################################################\n",
    "\n",
    "...\n",
    "\n",
    "# ^^^^^^^^^^^^^^^^^^^^^^^^^^^^^^^^^^^^^^^^^^^^^^^^^^^^^^^^^^^^^^^^^^^^^^^^^^^^^^^^^^^^^^"
   ]
  },
  {
   "cell_type": "markdown",
   "metadata": {},
   "source": [
    "#### Question 2.4: Compare the spectral clustering obtained with the different Laplacians, and discuss about differences"
   ]
  },
  {
   "cell_type": "markdown",
   "metadata": {},
   "source": [
    "**Your answer here:**"
   ]
  },
  {
   "cell_type": "markdown",
   "metadata": {},
   "source": [
    "#### Question 2.5: Compare spectral clusters to K-means."
   ]
  },
  {
   "cell_type": "markdown",
   "metadata": {},
   "source": [
    "**Your answer here:**"
   ]
  },
  {
   "cell_type": "markdown",
   "metadata": {},
   "source": []
  }
 ],
 "metadata": {
  "kernelspec": {
   "display_name": "nml-25",
   "language": "python",
   "name": "python3"
  },
  "language_info": {
   "codemirror_mode": {
    "name": "ipython",
    "version": 3
   },
   "file_extension": ".py",
   "mimetype": "text/x-python",
   "name": "python",
   "nbconvert_exporter": "python",
   "pygments_lexer": "ipython3",
   "version": "3.10.16"
  }
 },
 "nbformat": 4,
 "nbformat_minor": 2
}
