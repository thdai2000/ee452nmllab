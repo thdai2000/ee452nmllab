{
  "cells": [
    {
      "cell_type": "markdown",
      "id": "a52d20b9",
      "metadata": {
        "id": "a52d20b9"
      },
      "source": [
        "# [NML-25] Notebook 4: Graph Signal Processing\n",
        "\n",
        "TAs: [Manuel Madeira](https://people.epfl.ch/manuel.madeira)\n",
        "\n",
        "## Instructions\n",
        "\n",
        "**Expected output:**\n",
        "\n",
        "You will have coding and theoretical questions. Coding exercises shall be solved within the specified space:\n",
        "```python\n",
        "# Your solution here ###########################################################\n",
        "...\n",
        "#^^^^^^^^^^^^^^^^^^^^^^^^^^^^^^^^^^^^^^^^^^^^^^^^^^^^^^^^^^^^^^^^^^^^^^^^^^^^^^^\n",
        "```\n",
        "Sometimes we provide variable names, such as `x = ...`; do not change names and stick to hinted typing, as they will be reused later.\n",
        "Within the solution space, you can declare any other variable of function that you might need, but anything outside these lines shall not be changed, or it will invalidate your answers.\n",
        "\n",
        "Theoretical questions shall be answered in the following markdown cell. The first line will be \n",
        "```markdown\n",
        "**Your answer here:**\n",
        "...\n",
        "```\n",
        "\n",
        "**Solutions:**\n",
        "* Your code should be self-contained in the `.ipynb` file. The solution to the exercices will be provided in an external `.ipynb` file.\n",
        "\n",
        "* Try to make your code clean and readable, it is a good training for the project. Provide meaningful variable names and comment where needed.\n",
        "\n",
        "* You cannot import any other library than we imported, unless explicitly stated."
      ]
    },
    {
      "cell_type": "markdown",
      "id": "uCVj7LN8dbXv",
      "metadata": {
        "id": "uCVj7LN8dbXv"
      },
      "source": [
        "## Objective\n",
        "\n",
        "This assignment features two sections: \n",
        "  - spectral graph filtering\n",
        "  - label propagation\n",
        "\n",
        "Please make sure you install the packages in `requirements.txt` respective to this notebook in your environment."
      ]
    },
    {
      "cell_type": "code",
      "execution_count": null,
      "id": "33bc1346",
      "metadata": {},
      "outputs": [],
      "source": [
        "!pip install -r requirements.txt"
      ]
    },
    {
      "cell_type": "markdown",
      "id": "b6de9410",
      "metadata": {},
      "source": [
        "\n",
        "In particular, we will need a package called [PyGSP](https://pygsp.readthedocs.io/en/stable/) that provides implementations of graph signal processing operations. For this assignment, you will be implementing the GSP operations we learned in class yourself, while we will give the PyGSP commands so you can double check the results."
      ]
    },
    {
      "cell_type": "code",
      "execution_count": null,
      "id": "489b8fd8",
      "metadata": {
        "id": "489b8fd8"
      },
      "outputs": [],
      "source": [
        "import random\n",
        "import pandas as pd\n",
        "import networkx as nx\n",
        "import numpy as np\n",
        "import matplotlib.pyplot as plt\n",
        "import pygsp\n",
        "\n",
        "# Try different random seeds!\n",
        "seed = 42\n",
        "random.seed(seed)\n",
        "np.random.seed(seed)"
      ]
    },
    {
      "cell_type": "markdown",
      "id": "c278be40",
      "metadata": {},
      "source": [
        "NB: You are encouraged to try different random seeds, remember to re-run the whole notebook after doing so."
      ]
    },
    {
      "cell_type": "markdown",
      "id": "0025a0d8",
      "metadata": {
        "id": "0025a0d8"
      },
      "source": [
        "## Section 1: Spectral filtering\n",
        "\n",
        "This exercise covers basic notion of filtering in the graph Fourier domain. We start by retrieving two functions implemented in Notebook 2 that will reveal useful for this exercise."
      ]
    },
    {
      "cell_type": "code",
      "execution_count": null,
      "id": "85ae4916",
      "metadata": {},
      "outputs": [],
      "source": [
        "def compute_laplacian(adjacency: np.ndarray, normalize: str):\n",
        "    \"\"\"normalize: can be None, 'sym' or 'rw' for the combinatorial, symmetric normalized or random walk Laplacians\n",
        "    Return:\n",
        "        L (n x n ndarray): combinatorial or symmetric normalized Laplacian.\n",
        "    \"\"\"\n",
        "    diag = np.sum(adjacency, axis=1)\n",
        "\n",
        "    n = len(diag)\n",
        "    D = np.diag(diag)  # Degree matrix\n",
        "    combinatorial = D - adjacency\n",
        "\n",
        "    if normalize is None:\n",
        "        return combinatorial\n",
        "\n",
        "    diag[diag == 0] = 1e-12\n",
        "    if normalize == \"sym\":\n",
        "        diag_norm = 1 / np.sqrt(diag)\n",
        "        D_norm = np.diag(diag_norm)\n",
        "\n",
        "        return np.eye(n) - D_norm @ adjacency @ D_norm\n",
        "\n",
        "    elif normalize == \"rw\":\n",
        "        diag_norm = 1 / diag\n",
        "        D_norm = np.diag(diag_norm)\n",
        "        return np.eye(n) - D_norm @ adjacency\n",
        "\n",
        "    else:\n",
        "        raise ValueError(f\"Unknown normalization: {normalize}\")\n",
        "\n",
        "\n",
        "def spectral_decomposition(laplacian: np.ndarray):\n",
        "    \"\"\"Return:\n",
        "    l_eigvec (np.array): eigenvalues of the Laplacian\n",
        "    l_eigvals (np.ndarray): corresponding eigenvectors.\n",
        "    \"\"\"\n",
        "    if np.allclose(laplacian, laplacian.T):\n",
        "        return np.linalg.eigh(laplacian)\n",
        "    else:\n",
        "        return np.linalg.eig(laplacian)"
      ]
    },
    {
      "cell_type": "markdown",
      "id": "d53b5595",
      "metadata": {},
      "source": [
        "We will use a nearest-neighbor graph constructed from the Stanford Bunny point cloud included in the PyGSP library.\n",
        "We construct the normalized graph laplacians from the adjacency matrix and find its spectral decomposition."
      ]
    },
    {
      "cell_type": "code",
      "execution_count": null,
      "id": "72cfad18",
      "metadata": {
        "id": "72cfad18"
      },
      "outputs": [],
      "source": [
        "from pygsp.graphs import Bunny\n",
        "from mpl_toolkits.mplot3d import Axes3D # as Axes3d"
      ]
    },
    {
      "cell_type": "code",
      "execution_count": null,
      "id": "aa54327d",
      "metadata": {
        "colab": {
          "base_uri": "https://localhost:8080/",
          "height": 1000
        },
        "id": "aa54327d",
        "outputId": "b5c40725-1020-47c6-9686-54c2aff454fa"
      },
      "outputs": [],
      "source": [
        "# Define the graph\n",
        "G = Bunny()\n",
        "adjacency = np.asarray(G.W.todense())\n",
        "n_nodes = adjacency.shape[0]\n",
        "\n",
        "\n",
        "def plot_bunny(x=None, title='', vlim=[-0.03, 0.03]):\n",
        "    \"\"\" PLot a signal x on the bunny graph. \"\"\"\n",
        "    fig = plt.gcf()\n",
        "    ax = plt.gca()\n",
        "    if not isinstance(ax, Axes3D):\n",
        "        ax = plt.subplot(111, projection='3d')\n",
        "    if x is not None:\n",
        "        x = np.squeeze(x)\n",
        "    p = ax.scatter(G.coords[:,0], G.coords[:,1], G.coords[:,2], c=x, marker='o',\n",
        "                   s=5, cmap='RdBu_r', vmin=vlim[0], vmax=vlim[1])\n",
        "    ax.view_init(elev=-90, azim=90)\n",
        "    ax.dist = 7\n",
        "    ax.set_axis_off()\n",
        "    ax.set_title(title, pad=30)\n",
        "    if x is not None:\n",
        "        fig.colorbar(p)\n",
        "    plt.show()\n",
        "        \n",
        "        \n",
        "plt.subplot(111, projection='3d')\n",
        "plot_bunny()\n",
        "\n",
        "# Compute the normalized Laplacian\n",
        "laplacian = compute_laplacian(adjacency, normalize='sym')\n",
        "laplacian = (laplacian + laplacian.T) / 2    # Make sure the matrix is symmetric despite numerical errors\n",
        "lam, U = spectral_decomposition(laplacian)\n",
        "\n",
        "# This lines should normally not be needed, but sometimes they eigenvalues are not sorted\n",
        "argsort = np.argsort(lam)\n",
        "lam = lam[argsort]\n",
        "U = U[:, argsort]\n",
        "\n",
        "# Eigenvalues plot\n",
        "plt.figure(figsize=(6, 5))\n",
        "plt.scatter(np.arange(len(lam)), lam)\n",
        "plt.title('Eigenvalues of $L_{norm}$')\n",
        "plt.show()\n",
        "\n",
        "\n",
        "# Plot some eigenvectors of the graph\n",
        "plt.figure(figsize=(18, 9))\n",
        "plt.subplot(231, projection='3d')\n",
        "plot_bunny(x=U[:,0], title='Eigenvector #0')\n",
        "plt.subplot(232, projection='3d')\n",
        "plot_bunny(x=U[:,1], title='Eigenvector #1')\n",
        "plt.subplot(233, projection='3d')\n",
        "plot_bunny(x=U[:,2], title='Eigenvector #2')\n",
        "\n",
        "plt.subplot(234, projection='3d')\n",
        "plot_bunny(x=U[:,3], title='Eigenvector #3')\n",
        "plt.subplot(235, projection='3d')\n",
        "plot_bunny(x=U[:,10], title='Eigenvector #10')\n",
        "plt.subplot(236, projection='3d')\n",
        "plot_bunny(x=U[:,100], title='Eigenvector #100')"
      ]
    },
    {
      "cell_type": "markdown",
      "id": "2832a473",
      "metadata": {
        "id": "2832a473"
      },
      "source": [
        "#### Question 1.1: How does the intuitive notion of \"smoothness\" relates to the eigenvalue corresponding to an eigenvector? How can the smoothness of a signal be measured?"
      ]
    },
    {
      "cell_type": "markdown",
      "id": "f4567e80",
      "metadata": {
        "id": "f4567e80"
      },
      "source": [
        "**Your answer here:**"
      ]
    },
    {
      "cell_type": "markdown",
      "id": "fe845583",
      "metadata": {
        "id": "fe845583"
      },
      "source": [
        "#### Question 1.2: Implement the Graph Fourier Transform (GFT) of a graph signal and its inverse."
      ]
    },
    {
      "cell_type": "code",
      "execution_count": null,
      "id": "99df08ed",
      "metadata": {
        "id": "99df08ed"
      },
      "outputs": [],
      "source": [
        "def GFT(signal: np.array, U: np.ndarray):\n",
        "    \"\"\" signal: float array of size n.\n",
        "        U: matrix of size n x n containing one eigenvector per column.\n",
        "    \"\"\"\n",
        "    # Your solution here ###########################################################\n",
        "\n",
        "    # ^^^^^^^^^^^^^^^^^^^^^^^^^^^^^^^^^^^^^^^^^^^^^^^^^^^^^^^^^^^^^^^^^^^^^^^^^^^^^^^\n",
        "\n",
        "def iGFT(fourier_coefficients: np.ndarray, U: np.ndarray):\n",
        "    \"\"\" fourier_coefficients: float array of size n, containing a signal represented in the spectral domain\n",
        "        U: matrix of size n x n containing one eigenvector per column.\n",
        "    \"\"\"\n",
        "    # Your solution here ###########################################################\n",
        "    \n",
        "    # ^^^^^^^^^^^^^^^^^^^^^^^^^^^^^^^^^^^^^^^^^^^^^^^^^^^^^^^^^^^^^^^^^^^^^^^^^^^^^^^"
      ]
    },
    {
      "cell_type": "markdown",
      "id": "98f6c6e4",
      "metadata": {
        "id": "98f6c6e4"
      },
      "source": [
        "### Filtering\n",
        "We first define a signal `x`, and a noisy version of it `x_noisy`."
      ]
    },
    {
      "cell_type": "code",
      "execution_count": null,
      "id": "9d2b697a",
      "metadata": {
        "colab": {
          "base_uri": "https://localhost:8080/",
          "height": 495
        },
        "id": "9d2b697a",
        "outputId": "a12fdaed-9b16-41d0-c4c4-90f43d1e79d3"
      },
      "outputs": [],
      "source": [
        "x = G.coords[:, 0] + G.coords[:, 1] + 3 * G.coords[:, 2]\n",
        "x /= np.linalg.norm(x) \n",
        "\n",
        "noise = np.random.randn(n_nodes)\n",
        "noise /= np.linalg.norm(noise) \n",
        "\n",
        "x_noisy = x + 0.3 * noise\n",
        "\n",
        "plot_bunny(x_noisy, vlim=[min(x_noisy), max(x_noisy)])"
      ]
    },
    {
      "cell_type": "markdown",
      "id": "8a51c236",
      "metadata": {
        "id": "8a51c236"
      },
      "source": [
        "We will try to extract the signal from the noise using graph filters. Let us start by creating 4 ideal graph filters: a low pass, a band pass, a high pass, and the filter that implements the solution of Tikhonov regularization."
      ]
    },
    {
      "cell_type": "code",
      "execution_count": null,
      "id": "0019ce6f",
      "metadata": {
        "colab": {
          "base_uri": "https://localhost:8080/",
          "height": 450
        },
        "id": "0019ce6f",
        "outputId": "5ccbfdbc-540c-4808-f5be-d7c61eb6d0d6"
      },
      "outputs": [],
      "source": [
        "ideal_lp = np.ones((n_nodes,))\n",
        "ideal_bp = np.ones((n_nodes,))\n",
        "ideal_hp = np.ones((n_nodes,))\n",
        "\n",
        "ideal_lp[lam >= 0.1] = 0  # Low-pass filter with cut-off at lambda=0.1\n",
        "ideal_bp[lam < 0.1] = 0  # Band-pass filter with cut-offs at lambda=0.1 and lambda=0.5\n",
        "ideal_bp[lam > 0.5] = 0\n",
        "ideal_hp[lam <= 1] = 0  # High-pass filter with cut-off at lambda=1\n",
        "\n",
        "alpha = 0.99 / np.max(lam)\n",
        "\n",
        "ideal_tk = np.ones((n_nodes,))\n",
        "ideal_tk = 1 / (1 + alpha*lam)\n",
        "\n",
        "# Let's plot the spectral responses:\n",
        "\n",
        "plt.plot(lam, ideal_lp, '-', label='LP')\n",
        "plt.plot(lam, ideal_bp, '-', label='BP')\n",
        "plt.plot(lam, ideal_hp, '-', label='HP')\n",
        "plt.plot(lam, ideal_tk, '-', label='Tikhonov')\n",
        "plt.xlabel('$\\lambda$')\n",
        "plt.ylabel('Spectral response')\n",
        "plt.legend(loc='lower right')\n",
        "plt.show()"
      ]
    },
    {
      "cell_type": "markdown",
      "id": "b33d3f13",
      "metadata": {
        "id": "b33d3f13"
      },
      "source": [
        "#### Question 1.3: Implement the filtering function"
      ]
    },
    {
      "cell_type": "code",
      "execution_count": null,
      "id": "e749a8fc",
      "metadata": {
        "id": "e749a8fc"
      },
      "outputs": [],
      "source": [
        "def filter_signal(x: np.array, spectral_response: np.array, U: np.ndarray):\n",
        "    \"\"\" Return a filtered signal\n",
        "        The filter is defined in the spectral domain by its value on each eigenvector\n",
        "        x (float array of size n): input signal\n",
        "        spectral response (float array of size n): value of the filter at each eigenvalue\n",
        "        U (n x n matrix): eigenvectors (one per column).\n",
        "        returns:\n",
        "        out (float array of size n): Filtered signal\n",
        "    \"\"\"\n",
        "    # Your solution here ###########################################################\n",
        "\n",
        "    # ^^^^^^^^^^^^^^^^^^^^^^^^^^^^^^^^^^^^^^^^^^^^^^^^^^^^^^^^^^^^^^^^^^^^^^^^^^^^^^^"
      ]
    },
    {
      "cell_type": "code",
      "execution_count": null,
      "id": "775c8790",
      "metadata": {
        "colab": {
          "base_uri": "https://localhost:8080/",
          "height": 1000
        },
        "id": "775c8790",
        "outputId": "6cc04a55-3533-48a4-812d-ef90de8f8021"
      },
      "outputs": [],
      "source": [
        "x_lp = filter_signal(x_noisy,ideal_lp, U)\n",
        "x_bp = filter_signal(x_noisy,ideal_bp, U)\n",
        "x_hp = filter_signal(x_noisy,ideal_hp, U)\n",
        "x_tk = filter_signal(x_noisy,ideal_tk, U)\n",
        "\n",
        "plt.figure(figsize=(18, 9))\n",
        "plt.subplot(231, projection='3d')\n",
        "plot_bunny(x=x, title='signal (true)', vlim=[min(x), max(x)])\n",
        "plt.subplot(232, projection='3d')\n",
        "plot_bunny(x=x_noisy, title='signal (noisy)', vlim=[min(x), max(x)])\n",
        "plt.subplot(233, projection='3d')\n",
        "plot_bunny(x=x_lp, title='Low-pass', vlim=[min(x_lp), max(x_lp)])\n",
        "plt.subplot(234, projection='3d')\n",
        "plot_bunny(x=x_bp, title='Band-pass', vlim=[min(x_bp), max(x_bp)])\n",
        "plt.subplot(235, projection='3d')\n",
        "plot_bunny(x=x_hp, title='High-pass', vlim=[min(x_hp), max(x_hp)])\n",
        "plt.subplot(236, projection='3d')\n",
        "plot_bunny(x=x_tk, title='Tikhonov denoised signal', vlim=[min(x_tk), max(x_tk)])"
      ]
    },
    {
      "cell_type": "markdown",
      "id": "ymd3BdB-R5Rj",
      "metadata": {
        "id": "ymd3BdB-R5Rj"
      },
      "source": [
        "This is how we can filter a graph signal with PyGSP directly. \n",
        "\n",
        "Try the following commands to test whether your implementation is accurate!"
      ]
    },
    {
      "cell_type": "code",
      "execution_count": null,
      "id": "l6DI-KjuR5Rk",
      "metadata": {
        "colab": {
          "base_uri": "https://localhost:8080/",
          "height": 519
        },
        "id": "l6DI-KjuR5Rk",
        "outputId": "5365c83e-2fb5-4769-f632-05e1b27169ab"
      },
      "outputs": [],
      "source": [
        "def get_filters_pygsp(G_pygsp: pygsp.graphs.Graph):\n",
        "  G.compute_laplacian(\"normalized\")\n",
        "  G.L = (G.L + G.L.T) / 2 \n",
        "  G.compute_fourier_basis()\n",
        "\n",
        "  ideal_lp_pygsp = pygsp.filters.Filter(G_pygsp, \n",
        "                                        lambda x: (x < 0.1).astype(float))\n",
        "  ideal_bp_pygsp = pygsp.filters.Filter(G_pygsp, \n",
        "                                        lambda x: ((0.1 <= x) \n",
        "                                        & (x <= 0.5)).astype(float))\n",
        "  ideal_hp_pygsp = pygsp.filters.Filter(G_pygsp, \n",
        "                                        lambda x: (x > 1.0).astype(float))\n",
        "  ideal_tk_pygsp = pygsp.filters.Filter(G_pygsp, \n",
        "                                        lambda x: 1 / (1 + alpha * x))\n",
        "\n",
        "  return ideal_lp_pygsp, ideal_bp_pygsp, ideal_hp_pygsp, ideal_tk_pygsp\n",
        "\n",
        "fig, ax = plt.subplots()\n",
        "for filter_name, x, ideal_true in zip([\"LP\", \"BP\", \"HP\", \"Tikhonov\"], \n",
        "                                      [x_lp, x_bp, x_hp, x_tk], \n",
        "                                      get_filters_pygsp(G)):\n",
        "  ideal_true.plot(plot_eigenvalues=False, ax=ax)\n",
        "  x_true = ideal_true.filter(x_noisy)\n",
        "  print(f\"{filter_name} filtering correct: {np.allclose(x, x_true, atol=1e-2)}\")\n",
        "plt.xlim(0, 1.25)\n",
        "plt.xlabel('$\\lambda$')\n",
        "plt.ylabel('Spectral response')\n",
        "plt.legend(labels=[\"LP\", \"BP\", \"HP\", \"Tikhonov\"], loc='lower right')\n",
        "plt.show()"
      ]
    },
    {
      "cell_type": "markdown",
      "id": "5298e398",
      "metadata": {
        "id": "5298e398"
      },
      "source": [
        "#### Question 1.4: What kind of filter does Tikhonov regularization implement? Why?"
      ]
    },
    {
      "cell_type": "markdown",
      "id": "e8095f07",
      "metadata": {
        "id": "e8095f07"
      },
      "source": [
        "**Your answer here:**"
      ]
    },
    {
      "cell_type": "markdown",
      "id": "7cf3b90a",
      "metadata": {
        "id": "7cf3b90a"
      },
      "source": [
        "## Section 2: Label propagation\n",
        "\n",
        "We will implement label propagation, which is an algorithm for semi-supervised learning: given a few labeled points, the goal is to assign labels to other points. We refer to [this paper](http://mlg.eng.cam.ac.uk/zoubin/papers/CMU-CALD-02-107.pdf) for the details about the algorithm."
      ]
    },
    {
      "cell_type": "code",
      "execution_count": null,
      "id": "892d4516",
      "metadata": {
        "id": "892d4516"
      },
      "outputs": [],
      "source": [
        "import pygsp.graphs\n",
        "import numpy as np\n",
        "import numpy.linalg as LA\n",
        "import numpy.random as npr\n",
        "import matplotlib.pyplot as plt"
      ]
    },
    {
      "cell_type": "markdown",
      "id": "63bbabc1",
      "metadata": {
        "id": "63bbabc1"
      },
      "source": [
        "We will use points sampled from the Swiss roll graph. Note that the (weighted) adjacency matrix **A** is already provided. \n",
        "\n",
        "#### Question 2.1: If it was not the case, how could you construct the adjacency matrix of the Swiss roll graph?"
      ]
    },
    {
      "cell_type": "markdown",
      "id": "74c96f52",
      "metadata": {},
      "source": [
        "**Your answer here:**"
      ]
    },
    {
      "cell_type": "markdown",
      "id": "367e1020",
      "metadata": {},
      "source": [
        "We now proceed to the implementation of the label propagation algorithm."
      ]
    },
    {
      "cell_type": "code",
      "execution_count": null,
      "id": "d3b135fd",
      "metadata": {
        "colab": {
          "base_uri": "https://localhost:8080/",
          "height": 908
        },
        "id": "d3b135fd",
        "outputId": "aa046483-e94f-4040-9a0b-be7062552a36",
        "scrolled": true
      },
      "outputs": [],
      "source": [
        "n = 200\n",
        "\n",
        "\n",
        "def sample_signal(n, num_classes=3, num_labels_per_class=4, seed=0):\n",
        "    npr.seed(seed)\n",
        "    indices = npr.choice(n,\n",
        "                         size= num_labels_per_class * num_classes,\n",
        "                         replace=False)\n",
        "    indices = indices.reshape(num_labels_per_class, num_classes)\n",
        "\n",
        "    x = np.zeros((n, num_classes))\n",
        "    for j in range(num_classes):\n",
        "        x[indices[:, j], j] = 1\n",
        "    return x\n",
        "\n",
        "swiss_roll = pygsp.graphs.SwissRoll(n, dim=2, noise=0.05)\n",
        "A = swiss_roll.W                    # weighted adjacency matrix\n",
        "coords = swiss_roll.coords          # coordinates\n",
        "x = sample_signal(n)\n",
        "\n",
        "swiss_roll.plot()\n",
        "\n",
        "plt.figure()\n",
        "plt.scatter(coords[:, 0], coords[:, 1], c=np.argmax(x, axis=1))\n",
        "plt.scatter(coords[:, 0], coords[:, 1], c=x)\n",
        "plt.title(\"Initial labels\")\n",
        "plt.show()"
      ]
    },
    {
      "cell_type": "markdown",
      "id": "cf8fe404",
      "metadata": {
        "id": "cf8fe404"
      },
      "source": [
        "#### Question 2.1: Go through the paper and implement the label propagation algorithm of section 2.2"
      ]
    },
    {
      "cell_type": "code",
      "execution_count": null,
      "id": "4c5b2bff",
      "metadata": {
        "id": "4c5b2bff"
      },
      "outputs": [],
      "source": [
        "class LabelPropagation():\n",
        "    def __init__(self, num_iters, stopping_criterion=None):\n",
        "        self.num_iters = num_iters\n",
        "        self.stopping_criterion = stopping_criterion\n",
        "    \n",
        "    def __call__(self, A, x, coords, plot_each_iteration=True):\n",
        "        \"\"\" A: n x n: weighted adjacency matrix\n",
        "            x: n x d matrix containing the initial labels\n",
        "            coords: n x 2 matrix containing the point coordinates.\n",
        "            plot_each_iteration: bool.\n",
        "            Return:\n",
        "            pred: n x d prediction matrix (each row should sum to 1)\n",
        "        \"\"\"\n",
        "        plt.figure()\n",
        "        plt.scatter(coords[:, 0], coords[:, 1], c=x)\n",
        "        plt.title(f\"Initial state\")\n",
        "        plt.show()\n",
        "        \n",
        "        # Your solution here ###########################################################\n",
        "    \n",
        "        A = ... # define probability transition matrix\n",
        "        #^^^^^^^^^^^^^^^^^^^^^^^^^^^^^^^^^^^^^^^^^^^^^^^^^^^^^^^^^^^^^^^^^^^^^^^^^^^^^^^\n",
        "        for i in range(self.num_iters):\n",
        "            # Your solution here ############################################################################\n",
        "            \n",
        "            x = ... # update x\n",
        "            #^^^^^^^^^^^^^^^^^^^^^^^^^^^^^^^^^^^^^^^^^^^^^^^^^^^^^^^^^^^^^^^^^^^^^^^^^^^\n",
        "                \n",
        "            if plot_each_iteration:\n",
        "                plt.figure()\n",
        "                plt.scatter(coords[:, 0], coords[:, 1], c=x)\n",
        "                plt.title(f\"After Iteration {i}\")\n",
        "                plt.show()\n",
        "                \n",
        "            if self.stopping_criterion is not None:\n",
        "                if self.stopping_criterion.step(x):\n",
        "                    print(f\"Stopping criterion triggered after {i} iterations.\")\n",
        "                    break\n",
        "        return x\n",
        "    \n",
        "    \n",
        "def plot_predictions(x, coords):\n",
        "    \"\"\" x: n x d matrix containing the predictions \"\"\"\n",
        "    predictions = np.argmax(x, axis=1)\n",
        "    y = np.zeros(x.shape)\n",
        "    for i in range(x.shape[0]):\n",
        "        y[i, predictions[i]] = 1\n",
        "    plt.figure()\n",
        "    plt.scatter(coords[:, 0], coords[:, 1], c=y)\n",
        "    plt.title(\"Final predictions\")\n",
        "    plt.show()"
      ]
    },
    {
      "cell_type": "code",
      "execution_count": null,
      "id": "550fd4f8",
      "metadata": {
        "colab": {
          "base_uri": "https://localhost:8080/",
          "height": 1000
        },
        "id": "550fd4f8",
        "outputId": "25ed5dd5-257f-486b-f6f9-381e96b71690"
      },
      "outputs": [],
      "source": [
        "num_iters = 20\n",
        "lp = LabelPropagation(num_iters)\n",
        "predictions = lp(A, x, coords)\n",
        "plot_predictions(predictions, coords)"
      ]
    },
    {
      "cell_type": "markdown",
      "id": "9996aa01",
      "metadata": {
        "id": "9996aa01"
      },
      "source": [
        "We will add a stopping criterion to our algorithm, and stop training when the updates of all points $i$ satisfy $||x_i^{t+1} - x_i^t||_2 \\leq \\epsilon$.\n",
        "\n",
        "#### Question 2.2: Implement the uniform variation criterion.\n",
        "*Tips:* \n",
        "- You can use the function `scipy.linalg.norm`.\n",
        "- Do not forget that unexpected behaviours can happen when arrays are modified in place. To avoid this, you can use `np.copy()`."
      ]
    },
    {
      "cell_type": "code",
      "execution_count": null,
      "id": "951767a7",
      "metadata": {
        "id": "951767a7"
      },
      "outputs": [],
      "source": [
        "class UniformVariationCriterion():\n",
        "    def __init__(self, threshold=0.01):\n",
        "        self.threshold = threshold\n",
        "        self.last_values = None\n",
        "        \n",
        "    def step(self, x):\n",
        "        \"\"\" Return True if the class probabilities for each point have changed by less than epsilon,\n",
        "            False otherwise.\n",
        "        \"\"\"\n",
        "        # Your solution here ###########################################################\n",
        "        \n",
        "        # ^^^^^^^^^^^^^^^^^^^^^^^^^^^^^^^^^^^^^^^^^^^^^^^^^^^^^^^^^^^^^^^^^^^^^^^^^^^^^^"
      ]
    },
    {
      "cell_type": "code",
      "execution_count": null,
      "id": "c0280ea6",
      "metadata": {
        "colab": {
          "base_uri": "https://localhost:8080/",
          "height": 1000
        },
        "id": "c0280ea6",
        "outputId": "bffce878-92b6-4fa8-bde1-a7234e62e6cb"
      },
      "outputs": [],
      "source": [
        "stopping_criterion = UniformVariationCriterion()\n",
        "num_iters = 200\n",
        "\n",
        "x = sample_signal(n)\n",
        "lp = LabelPropagation(num_iters, stopping_criterion)\n",
        "predictions = lp(A, x, coords, plot_each_iteration=False)\n",
        "plot_predictions(predictions, coords)"
      ]
    },
    {
      "cell_type": "markdown",
      "id": "2a6b5525",
      "metadata": {
        "id": "2a6b5525"
      },
      "source": [
        "An alternative way to perform semi-supervised learning is to apply a low-pass filter on the signal. Use the functions defined in the previous exercises to apply a Tikhonov filter with $\\alpha=1$ to the signal `x`.\n",
        "\n",
        "#### Question 2.3: Connection with low-pass filtering. Use the functions defined in the previous exercises to compute a Tikhonov filter. Apply this filter to the signal `x` to compute predictions for unseen nodes.\n"
      ]
    },
    {
      "cell_type": "code",
      "execution_count": null,
      "id": "1640cc4b",
      "metadata": {
        "id": "1640cc4b"
      },
      "outputs": [],
      "source": [
        "# Your solution here ###########################################################\n",
        "filtered = ...\n",
        "# ^^^^^^^^^^^^^^^^^^^^^^^^^^^^^^^^^^^^^^^^^^^^^^^^^^^^^^^^^^^^^^^^^^^^^^^^^^^^^^^"
      ]
    },
    {
      "cell_type": "code",
      "execution_count": null,
      "id": "24f25097",
      "metadata": {
        "colab": {
          "base_uri": "https://localhost:8080/",
          "height": 452
        },
        "id": "24f25097",
        "outputId": "0840fa37-c281-49fa-f2bb-e36ce514b72c"
      },
      "outputs": [],
      "source": [
        "plot_predictions(filtered, coords)"
      ]
    },
    {
      "cell_type": "markdown",
      "id": "b6abd4b9",
      "metadata": {},
      "source": [
        "#### Question 2.4: What do you observe? How do the results from label propagation and low-pass filtering compare?"
      ]
    },
    {
      "cell_type": "markdown",
      "id": "909b18fa",
      "metadata": {
        "id": "909b18fa"
      },
      "source": [
        "**Your answer here:**"
      ]
    },
    {
      "cell_type": "markdown",
      "id": "81e077ca",
      "metadata": {},
      "source": [
        "#### Question 2.5: In our implementation, we initialized the labels of the unlabeled nodes to an array of zeros. However, this initialization is arbitrary. Prove that the label propagation algorithm is insensitive to the initialization of the labels of the unlabeled nodes. "
      ]
    },
    {
      "cell_type": "markdown",
      "id": "25a85049",
      "metadata": {},
      "source": [
        "**Your answer here:**"
      ]
    }
  ],
  "metadata": {
    "colab": {
      "provenance": [],
      "toc_visible": true
    },
    "kernelspec": {
      "display_name": "nml_notebook4",
      "language": "python",
      "name": "python3"
    },
    "language_info": {
      "codemirror_mode": {
        "name": "ipython",
        "version": 3
      },
      "file_extension": ".py",
      "mimetype": "text/x-python",
      "name": "python",
      "nbconvert_exporter": "python",
      "pygments_lexer": "ipython3",
      "version": "3.10.16"
    }
  },
  "nbformat": 4,
  "nbformat_minor": 5
}
